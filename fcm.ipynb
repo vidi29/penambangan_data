{
 "cells": [
  {
   "cell_type": "code",
   "execution_count": 8,
   "id": "c5082f79",
   "metadata": {},
   "outputs": [],
   "source": [
    "from sklearn.datasets import load_iris\n",
    "import numpy as np\n",
    "\n",
    "# Ambil data iris\n",
    "iris = load_iris()\n",
    "X = iris.data  # hanya fitur, tanpa label"
   ]
  },
  {
   "cell_type": "code",
   "execution_count": 20,
   "id": "b89664a2",
   "metadata": {},
   "outputs": [
    {
     "name": "stdout",
     "output_type": "stream",
     "text": [
      "Pusat kluster:\n",
      " [[5.00396363 3.41413849 1.48273472 0.25351006]\n",
      " [5.88792667 2.76070677 4.36248206 1.39655767]\n",
      " [6.77379377 3.05202741 5.64526371 2.05295983]]\n",
      "\n",
      "Label hasil FCM (0, 1, 2):\n",
      " [0 0 0 0 0 0 0 0 0 0 0 0 0 0 0 0 0 0 0 0 0 0 0 0 0 0 0 0 0 0 0 0 0 0 0 0 0\n",
      " 0 0 0 0 0 0 0 0 0 0 0 0 0 2 1 2 1 1 1 1 1 1 1 1 1 1 1 1 1 1 1 1 1 1 1 1 1\n",
      " 1 1 1 2 1 1 1 1 1 1 1 1 1 1 1 1 1 1 1 1 1 1 1 1 1 1 2 1 2 2 2 2 1 2 2 2 2\n",
      " 2 2 1 2 2 2 2 2 1 2 1 2 1 2 2 1 1 2 2 2 2 2 1 2 2 2 2 1 2 2 2 1 2 2 2 1 2\n",
      " 2 1]\n"
     ]
    }
   ],
   "source": [
    "import numpy as np\n",
    "from sklearn.datasets import load_iris\n",
    "\n",
    "# Ambil data iris\n",
    "iris = load_iris()\n",
    "X = iris.data  # data fitur\n",
    "n_samples = X.shape[0]\n",
    "n_features = X.shape[1]\n",
    "n_clusters = 3  # karena iris ada 3 kelas\n",
    "m = 2.0  # fuzzifier\n",
    "epsilon = 0.01\n",
    "max_iter = 100\n",
    "\n",
    "# Fungsi jarak Euclidean\n",
    "def euclidean_distance(x, v):\n",
    "    return np.linalg.norm(x - v)\n",
    "\n",
    "# Inisialisasi keanggotaan U\n",
    "U = np.random.dirichlet(np.ones(n_clusters), size=n_samples).T\n",
    "\n",
    "for iteration in range(max_iter):\n",
    "    U_old = U.copy()\n",
    "\n",
    "    # Hitung pusat kluster\n",
    "    V = np.zeros((n_clusters, n_features))\n",
    "    for i in range(n_clusters):\n",
    "        um = U[i] ** m\n",
    "        V[i] = np.dot(um, X) / np.sum(um)\n",
    "\n",
    "    # Update U\n",
    "    for i in range(n_clusters):\n",
    "        for k in range(n_samples):\n",
    "            denom = 0\n",
    "            for j in range(n_clusters):\n",
    "                dist_i = euclidean_distance(X[k], V[i])\n",
    "                dist_j = euclidean_distance(X[k], V[j])\n",
    "                dist_i = max(dist_i, 1e-10)  # hindari pembagian 0\n",
    "                dist_j = max(dist_j, 1e-10)\n",
    "                denom += (dist_i / dist_j) ** (2 / (m - 1))\n",
    "            U[i][k] = 1 / denom\n",
    "\n",
    "    # Konvergensi\n",
    "    if np.linalg.norm(U - U_old) < epsilon:\n",
    "        break\n",
    "\n",
    "# Ambil label dominan\n",
    "labels = np.argmax(U, axis=0)\n",
    "\n",
    "# Tampilkan hasil\n",
    "print(\"Pusat kluster:\\n\", V)\n",
    "print(\"\\nLabel hasil FCM (0, 1, 2):\\n\", labels)"
   ]
  },
  {
   "cell_type": "code",
   "execution_count": 10,
   "id": "1097df22",
   "metadata": {},
   "outputs": [
    {
     "name": "stdout",
     "output_type": "stream",
     "text": [
      "\n",
      "Adjusted Rand Index: 0.7294203486015404\n"
     ]
    }
   ],
   "source": [
    "from sklearn.metrics import adjusted_rand_score\n",
    "\n",
    "true_labels = iris.target\n",
    "ari = adjusted_rand_score(true_labels, labels)\n",
    "print(\"\\nAdjusted Rand Index:\", ari)"
   ]
  },
  {
   "cell_type": "code",
   "execution_count": 18,
   "id": "e0eefd6a",
   "metadata": {},
   "outputs": [
    {
     "name": "stdout",
     "output_type": "stream",
     "text": [
      "Pusat kluster:\n",
      " [[5.00396374 3.41413615 1.48273854 0.25351178]\n",
      " [5.88797478 2.76072409 4.36255302 1.39659444]\n",
      " [6.77385442 3.05204498 5.64533882 2.05298857]]\n",
      "\n",
      "Label hasil FCM (0, 1, 2):\n",
      " [0 0 0 0 0 0 0 0 0 0 0 0 0 0 0 0 0 0 0 0 0 0 0 0 0 0 0 0 0 0 0 0 0 0 0 0 0\n",
      " 0 0 0 0 0 0 0 0 0 0 0 0 0 2 1 2 1 1 1 1 1 1 1 1 1 1 1 1 1 1 1 1 1 1 1 1 1\n",
      " 1 1 1 2 1 1 1 1 1 1 1 1 1 1 1 1 1 1 1 1 1 1 1 1 1 1 2 1 2 2 2 2 1 2 2 2 2\n",
      " 2 2 1 2 2 2 2 2 1 2 1 2 1 2 2 1 1 2 2 2 2 2 1 2 2 2 2 1 2 2 2 1 2 2 2 1 2\n",
      " 2 1]\n"
     ]
    }
   ],
   "source": [
    "import numpy as np\n",
    "from sklearn.datasets import load_iris\n",
    "\n",
    "# Ambil data iris\n",
    "iris = load_iris()\n",
    "X = iris.data  # data fitur\n",
    "n_samples = X.shape[0]\n",
    "n_features = X.shape[1]\n",
    "n_clusters = 3  # karena iris ada 3 kelas\n",
    "m = 2.0  # fuzzifier\n",
    "epsilon = 0.01\n",
    "max_iter = 100\n",
    "\n",
    "# Fungsi jarak Euclidean\n",
    "def euclidean_distance(x, v):\n",
    "    return np.linalg.norm(x - v)\n",
    "\n",
    "# Inisialisasi keanggotaan U\n",
    "U = np.random.dirichlet(np.ones(n_clusters), size=n_samples).T\n",
    "\n",
    "for iteration in range(max_iter):\n",
    "    U_old = U.copy()\n",
    "\n",
    "    # Hitung pusat kluster\n",
    "    V = np.zeros((n_clusters, n_features))\n",
    "    for i in range(n_clusters):\n",
    "        um = U[i] ** m\n",
    "        V[i] = np.dot(um, X) / np.sum(um)\n",
    "\n",
    "    # Update U\n",
    "    for i in range(n_clusters):\n",
    "        for k in range(n_samples):\n",
    "            denom = 0\n",
    "            for j in range(n_clusters):\n",
    "                dist_i = euclidean_distance(X[k], V[i])\n",
    "                dist_j = euclidean_distance(X[k], V[j])\n",
    "                dist_i = max(dist_i, 1e-10)  # hindari pembagian 0\n",
    "                dist_j = max(dist_j, 1e-10)\n",
    "                denom += (dist_i / dist_j) ** (2 / (m - 1))\n",
    "            U[i][k] = 1 / denom\n",
    "\n",
    "    # Konvergensi\n",
    "    if np.linalg.norm(U - U_old) < epsilon:\n",
    "        break\n",
    "\n",
    "# Ambil label dominan\n",
    "labels = np.argmax(U, axis=0)\n",
    "\n",
    "# Tampilkan hasil\n",
    "print(\"Pusat kluster:\\n\", V)\n",
    "print(\"\\nLabel hasil FCM (0, 1, 2):\\n\", labels)"
   ]
  }
 ],
 "metadata": {
  "kernelspec": {
   "display_name": "Python 3",
   "language": "python",
   "name": "python3"
  },
  "language_info": {
   "codemirror_mode": {
    "name": "ipython",
    "version": 3
   },
   "file_extension": ".py",
   "mimetype": "text/x-python",
   "name": "python",
   "nbconvert_exporter": "python",
   "pygments_lexer": "ipython3",
   "version": "3.12.1"
  }
 },
 "nbformat": 4,
 "nbformat_minor": 5
}
