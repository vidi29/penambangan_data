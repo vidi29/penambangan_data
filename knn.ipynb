{
 "cells": [
  {
   "cell_type": "markdown",
   "id": "2f430e87",
   "metadata": {},
   "source": [
    "K-Means Clustering"
   ]
  }
 ],
 "metadata": {
  "language_info": {
   "name": "python"
  }
 },
 "nbformat": 4,
 "nbformat_minor": 5
}
